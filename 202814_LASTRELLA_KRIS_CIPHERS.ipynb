{
 "cells": [
  {
   "cell_type": "code",
   "execution_count": 11,
   "id": "cd5588fb",
   "metadata": {},
   "outputs": [],
   "source": [
    "##Caesar Cipher \n",
    "def problem_1(message,shift):\n",
    "    encryptedmessage =\"\"\n",
    "    for letter in message.upper():\n",
    "        if letter.isupper():\n",
    "            unicode = ord(letter)\n",
    "            index = unicode - 65\n",
    "            newindex = (index + shift) % 26\n",
    "            newunicode=newindex+65\n",
    "            representation = chr(newunicode)\n",
    "            encryptedmessage = encryptedmessage + representation\n",
    "        else: \n",
    "            encryptedmessage += letter\n",
    "    return encryptedmessage\n",
    "\n",
    "def problem_1_inputs():\n",
    "    #define variables through input\n",
    "    message = input(\"What's the message? \")\n",
    "    shift = int(input (\"How many shifts? \"))\n",
    "    encryptedmessage =\"\"\n",
    "    for letter in message.upper():\n",
    "        #used .isupper function to disregard spaces\n",
    "        if letter.isupper():\n",
    "            #gets the unicode of the letter\n",
    "            unicode = ord(letter)\n",
    "            index = unicode - 65\n",
    "            #used modulo to get the remainder if the shit exceeds 26 letters which is the count of alphabts\n",
    "            newindex = (index + shift) % 26\n",
    "            # added 65 since ord(65) is \"A\"\n",
    "            newunicode=newindex+65\n",
    "            # to get the new character/letter\n",
    "            representation = chr(newunicode)\n",
    "            #replaces the blank to the new character\n",
    "            encryptedmessage = encryptedmessage + representation\n",
    "            #if its not a letter, it lets the symbol/character as is\n",
    "        else: \n",
    "            encryptedmessage += letter\n",
    "    return encryptedmessage"
   ]
  },
  {
   "cell_type": "code",
   "execution_count": 12,
   "id": "c817a0e0",
   "metadata": {},
   "outputs": [
    {
     "data": {
      "text/plain": [
       "'DWWDFN DW GDZQ'"
      ]
     },
     "execution_count": 12,
     "metadata": {},
     "output_type": "execute_result"
    }
   ],
   "source": [
    "problem_1(\"ATTACK AT DAWN\",3)"
   ]
  },
  {
   "cell_type": "code",
   "execution_count": 13,
   "id": "1910cc4e",
   "metadata": {},
   "outputs": [],
   "source": [
    "#scytale cipher   \n",
    "def problem_2(message,shift):\n",
    "    counter= len(message)\n",
    "    encryptedmessage = ''\n",
    "    if (counter%shift) != 0:\n",
    "        message += \"_\" \n",
    "        counter += 1\n",
    "    for i in range(len(message)):\n",
    "        letter = (i // shift) + (len(message) // shift) * (i % shift)\n",
    "        newletter = message[letter]\n",
    "        encryptedmessage = encryptedmessage + newletter.upper()\n",
    "    return encryptedmessage\n",
    "\n",
    "def problem_2_inputs():\n",
    "    message = input(\"What's the message to encrypt? \")\n",
    "    shift = int(input (\"How many shifts?\"))\n",
    "    counter= len(message)\n",
    "    encryptedmessage = ''\n",
    "    if (counter%shift) != 0:\n",
    "        message += \"_\" \n",
    "        counter += 1\n",
    "    for i in range(len(message)):\n",
    "        letter = (i // shift) + (len(message) // shift) * (i % shift)\n",
    "        newletter = message[letter]\n",
    "        encryptedmessage = encryptedmessage + newletter.upper()\n",
    "    return encryptedmessage"
   ]
  },
  {
   "cell_type": "code",
   "execution_count": 19,
   "id": "7028140d",
   "metadata": {},
   "outputs": [
    {
     "data": {
      "text/plain": [
       "'IRIANMOGFANEOT__'"
      ]
     },
     "execution_count": 19,
     "metadata": {},
     "output_type": "execute_result"
    }
   ],
   "source": [
    "problem_2(\"INFORMATION_AGE\",4)"
   ]
  },
  {
   "cell_type": "code",
   "execution_count": 15,
   "id": "1866cfcc",
   "metadata": {},
   "outputs": [],
   "source": [
    "#Vigenere Cipher\n",
    "def problem_3(message, key):\n",
    "    message = message.upper()\n",
    "    key = key.upper()\n",
    "    keylen = len(key)\n",
    "    keyunicode = [ord(i) for i in key]\n",
    "    messageunicode = [ord(i) for i in message]\n",
    "    encryptedmessage = ''\n",
    "    for i in range(len(message)):\n",
    "        if   65 <= ord(message[i]) <=90:\n",
    "            new = (messageunicode[i] + keyunicode[i % keylen]) % 26\n",
    "            encryptedmessage += chr(new + 65)\n",
    "        else:\n",
    "            encryptedmessage += message[i]\n",
    "    return encryptedmessage\n",
    "\n",
    "def problem_3_input():\n",
    "    message = input(\"What's the message to encrypt? \")\n",
    "    message = message.upper()\n",
    "    key = input(\"What's the key? \")\n",
    "    key = key.upper()\n",
    "    keylen = len(key)\n",
    "    keyunicode = [ord(i) for i in key]\n",
    "    messageunicode = [ord(i) for i in message]\n",
    "    encryptedmessage = ''\n",
    "    for i in range(len(message)):\n",
    "        if   65 <= ord(message[i]) <=90:\n",
    "            new = (messageunicode[i] + keyunicode[i % keylen]) % 26\n",
    "            encryptedmessage += chr(new + 65)\n",
    "        else:\n",
    "            encryptedmessage += message[i]    \n",
    "    return encryptedmessage"
   ]
  },
  {
   "cell_type": "code",
   "execution_count": 16,
   "id": "b0f0ae04",
   "metadata": {
    "scrolled": true
   },
   "outputs": [
    {
     "data": {
      "text/plain": [
       "'WC WIQCEEO'"
      ]
     },
     "execution_count": 16,
     "metadata": {},
     "output_type": "execute_result"
    }
   ],
   "source": [
    "problem_3(\"MY MESSAGE\",\"KEY\")"
   ]
  },
  {
   "cell_type": "code",
   "execution_count": 17,
   "id": "58b08adb",
   "metadata": {},
   "outputs": [],
   "source": [
    "#Scytale De-cipher\n",
    "def problem_4_input():\n",
    "    message = input(\"What's the message to decrypt: \")\n",
    "    shift = int(input (\"How many shifts?\"))\n",
    "    mssglen = int(len(message))\n",
    "    decoded = \"\"\n",
    "    for i in range(len(message)):\n",
    "        if i/(len(message)-1)==1:\n",
    "            newletter = message [i]\n",
    "            decoded = decoded + newletter.upper()\n",
    "        else:\n",
    "            newletter = (i*shift)\n",
    "            newletter = newletter % (mssglen-1)\n",
    "            newletter = message [newletter]\n",
    "            decoded = decoded + newletter.upper()\n",
    "    return decoded\n",
    "\n",
    "def problem_4(message, shift):\n",
    "    shift = int(shift)\n",
    "    mssglen = int(len(message))\n",
    "    decoded = \"\"\n",
    "    for i in range(len(message)):\n",
    "        if i/(len(message)-1)==1:\n",
    "            newletter = message [i]\n",
    "            decoded = decoded + newletter.upper()\n",
    "        else:\n",
    "            newletter = (i*shift)\n",
    "            newletter = newletter % (mssglen-1)\n",
    "            newletter = message [newletter]\n",
    "            decoded = decoded + newletter.upper()\n",
    "    return decoded"
   ]
  },
  {
   "cell_type": "code",
   "execution_count": 20,
   "id": "54b707ea",
   "metadata": {},
   "outputs": [
    {
     "data": {
      "text/plain": [
       "'INFORMATION_AGE_'"
      ]
     },
     "execution_count": 20,
     "metadata": {},
     "output_type": "execute_result"
    }
   ],
   "source": [
    "problem_4(\"IRIANMOGFANEOT__\",4)"
   ]
  },
  {
   "cell_type": "code",
   "execution_count": null,
   "id": "5857dbc8",
   "metadata": {},
   "outputs": [],
   "source": []
  }
 ],
 "metadata": {
  "celltoolbar": "Raw Cell Format",
  "kernelspec": {
   "display_name": "Python 3",
   "language": "python",
   "name": "python3"
  },
  "language_info": {
   "codemirror_mode": {
    "name": "ipython",
    "version": 3
   },
   "file_extension": ".py",
   "mimetype": "text/x-python",
   "name": "python",
   "nbconvert_exporter": "python",
   "pygments_lexer": "ipython3",
   "version": "3.8.8"
  }
 },
 "nbformat": 4,
 "nbformat_minor": 5
}
