{
 "cells": [
  {
   "cell_type": "code",
   "execution_count": 5,
   "id": "49a24474",
   "metadata": {},
   "outputs": [],
   "source": [
    "#problem 1 (take a factorial)\n",
    "def problem_1(x):\n",
    "    factorial = 1\n",
    "    for i in range(1,x+1):\n",
    "        factorial = factorial * i\n",
    "    return factorial\n",
    "\n",
    "def prob1_input():\n",
    "    x = int(input(\"value:\"))\n",
    "    factorial = 1\n",
    "    for i in range(1,x+1):\n",
    "        factorial = factorial * i\n",
    "    return factorial"
   ]
  },
  {
   "cell_type": "code",
   "execution_count": 15,
   "id": "f0bf1d9f",
   "metadata": {},
   "outputs": [],
   "source": [
    "#problem 2(Number guessing game)\n",
    "def problem_2(passphrase):\n",
    "    counter = 0\n",
    "    status = 0\n",
    "    while counter <3:\n",
    "        guess = input(\"what's your guess: \")\n",
    "        counter+=1\n",
    "        if counter == 3 and guess != passphrase:\n",
    "            return status\n",
    "            break\n",
    "        elif guess == passphrase:\n",
    "            status += 1\n",
    "            return status\n",
    "            break\n",
    "        elif counter == 3:\n",
    "            break"
   ]
  },
  {
   "cell_type": "code",
   "execution_count": 3,
   "id": "00f701ec",
   "metadata": {},
   "outputs": [],
   "source": [
    "#Write a function called problem_3 that takes three positional arguments: (float) temp, (string) original_format, \n",
    "#(string) new_format. The function should convert temp, which is represented in original_format, to its equivalent \n",
    "#value in the new_format.\n",
    "\n",
    "def problem_3(temp,original_format,new_format):\n",
    "    temp = float(temp)\n",
    "    original_format = str(original_format)\n",
    "    new_format = str(new_format)\n",
    "\n",
    "    if original_format == \"Kelvin\" and new_format == \"Celsius\":\n",
    "        temp = temp - 273\n",
    "    elif original_format == \"Kelvin\" and new_format == \"Fahrenheit\":\n",
    "        temp = (temp - 273) * (9/5) + 32\n",
    "    elif original_format == \"Fahrenheit\" and new_format == \"Kelvin\":\n",
    "        temp = (temp - 32) * (5/9) + 273\n",
    "    elif original_format == \"Fahrenheit\" and new_format == \"Celsius\":\n",
    "        temp = (temp) * (5/9) + 273\n",
    "    elif original_format == \"Celsius\" and new_format == \"Fahrenheit\":\n",
    "        temp = (temp) * (9/5) + 32\n",
    "    elif original_format == \"Celsius\" and new_format == \"Kelvin\":\n",
    "        temp = (temp) + 273\n",
    "    return round(temp,2)"
   ]
  },
  {
   "cell_type": "code",
   "execution_count": 20,
   "id": "11691464",
   "metadata": {},
   "outputs": [],
   "source": [
    "#Exact Change\n",
    "def problem_4(amount):\n",
    "    while amount != 0:\n",
    "        peso =amount // 100\n",
    "        amount -= 100*peso\n",
    "        twentyfives = amount // 25\n",
    "        amount -= 25*twentyfives\n",
    "        tens =amount // 10\n",
    "        amount -= 10*tens\n",
    "        fives = amount // 5\n",
    "        amount -= 5*fives\n",
    "        ones =amount // 1\n",
    "        amount -= 1*ones\n",
    "        return (f\"1P:{peso}/25C:{twentyfives}/10C:{tens}/5C:{fives}/1C:{ones}\")\n",
    "def problem_4_input():\n",
    "    amount = int(input(\"Amount in Centavoes:\"))\n",
    "    while amount != 0:\n",
    "        peso =amount // 100\n",
    "        amount -= 100*peso\n",
    "        twentyfives = amount // 25\n",
    "        amount -= 25*twentyfives\n",
    "        tens =amount // 10\n",
    "        amount -= 10*tens\n",
    "        fives = amount // 5\n",
    "        amount -= 5*fives\n",
    "        ones =amount // 1\n",
    "        amount -= 1*ones\n",
    "        return (f\"1P:{peso}/25C:{twentyfives}/10C:{tens}/5C:{fives}/1C:{ones}\")"
   ]
  },
  {
   "cell_type": "code",
   "execution_count": 5,
   "id": "522a2949",
   "metadata": {},
   "outputs": [],
   "source": [
    "#Invert Capitalization \n",
    "def problem_5_input():\n",
    "    text = str(input(\"Type your text:\"))\n",
    "    new = \"\"\n",
    "    for letter in text:\n",
    "        for letter in text:\n",
    "            if letter.isupper():\n",
    "                char = letter.lower()\n",
    "                new += char\n",
    "            elif letter.islower():\n",
    "                char = letter.upper()\n",
    "                new += char\n",
    "            else: \n",
    "                new += letter\n",
    "        break\n",
    "    return (new)\n",
    "\n",
    "def problem_5(text):\n",
    "    new = \"\"\n",
    "    for letter in text:\n",
    "        for letter in text:\n",
    "            if letter.isupper():\n",
    "                char = letter.lower()\n",
    "                new += char\n",
    "            elif letter.islower():\n",
    "                char = letter.upper()\n",
    "                new += char\n",
    "            else: \n",
    "                new += letter\n",
    "        break\n",
    "    return (new)"
   ]
  },
  {
   "cell_type": "code",
   "execution_count": 21,
   "id": "820d2238",
   "metadata": {
    "scrolled": true
   },
   "outputs": [
    {
     "data": {
      "text/plain": [
       "'1P:0/25C:2/10C:1/5C:1/1C:4'"
      ]
     },
     "execution_count": 21,
     "metadata": {},
     "output_type": "execute_result"
    }
   ],
   "source": [
    "problem_4(69)"
   ]
  },
  {
   "cell_type": "code",
   "execution_count": null,
   "id": "5da92fec",
   "metadata": {},
   "outputs": [],
   "source": []
  }
 ],
 "metadata": {
  "kernelspec": {
   "display_name": "Python 3",
   "language": "python",
   "name": "python3"
  },
  "language_info": {
   "codemirror_mode": {
    "name": "ipython",
    "version": 3
   },
   "file_extension": ".py",
   "mimetype": "text/x-python",
   "name": "python",
   "nbconvert_exporter": "python",
   "pygments_lexer": "ipython3",
   "version": "3.8.8"
  }
 },
 "nbformat": 4,
 "nbformat_minor": 5
}
